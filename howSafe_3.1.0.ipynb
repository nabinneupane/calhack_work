{
 "cells": [
  {
   "cell_type": "code",
   "execution_count": 1,
   "metadata": {},
   "outputs": [],
   "source": [
    "# Web scraping, pickle imports\n",
    "import requests\n",
    "from bs4 import BeautifulSoup\n",
    "import pickle\n",
    "\n",
    "# Scrapes transcript data from Wdam7 news portal\n",
    "def url_to_transcript(url):\n",
    "    '''Returns transcript data specifically from scrapsfromtheloft.com.'''\n",
    "    page = requests.get(url).text\n",
    "    soup = BeautifulSoup(page, \"lxml\")\n",
    "    text = [p.text for p in soup.find(class_=\"text-align-left card-content\").find_all('h1')]\n",
    "    print(url)\n",
    "    return text\n",
    "\n",
    "# URLs of News in scope\n",
    "urls = ['https://www.wdam.com/2019/10/25/skimming-device-found-pump-petal-gas-station/',\n",
    "       'https://www.wdam.com/2019/10/23/spotlighting-gangs-south-mississippi/',\n",
    "       'https://www.wdam.com/2019/10/22/illegal-deer-hunt-wayne-county-leads-attempted-murder-charges/',\n",
    "       'https://www.wdam.com/2019/10/21/single-punch-leaves-alabama-teen-critical-condition/',\n",
    "       'https://www.wdam.com/2019/10/21/laurel-police-investigating-weekend-drive-by-shooting/',\n",
    "       'https://www.wdam.com/2019/10/21/jones-co-man-who-dealt-drugs-near-childrens-hospital-pleads-guilty-drug-conspiracy-charges/',\n",
    "       'https://www.wdam.com/2019/10/18/relatives-say-mother-acted-suspiciously-before-abducting-children-copiah-county-home-gunpoint/',\n",
    "       'https://www.wdam.com/2019/10/17/amber-alert-cancelled-after-children-kidnapped-copiah-co-home-found-safe/',\n",
    "       'https://www.wdam.com/2019/10/14/pine-belt-men-arrested-child-pornography-charges/',\n",
    "       'https://www.wdam.com/2019/10/10/arrested-after-meth-found-during-traffic-stop-perry-county/',\n",
    "       'https://www.wdam.com/2019/10/09/lumberton-honors-victims-survivors-domestic-violence/',\n",
    "       'https://www.wdam.com/2019/10/11/manhunt-underway-escaped-inmate-jones-county/',\n",
    "       'https://www.wdam.com/2019/10/13/hattiesburg-police-looking-suspect-grand-larceny-case/',\n",
    "       'https://www.wdam.com/2019/10/27/superhero-potter-fortnite-costumes-big-sellers-hattiesburg-costume-store/',\n",
    "       'https://www.wdam.com/2019/10/26/hattiesburg-volunteers-participate-make-difference-day/']\n",
    "\n",
    "# Unique Id of the news articles\n",
    "newsIndex = ['M1','M2','M3','M4','M5','M6','M7','M8','M9','M10','M11','M12','M13','M14','M15']"
   ]
  },
  {
   "cell_type": "code",
   "execution_count": 2,
   "metadata": {},
   "outputs": [
    {
     "name": "stdout",
     "output_type": "stream",
     "text": [
      "https://www.wdam.com/2019/10/25/skimming-device-found-pump-petal-gas-station/\n",
      "https://www.wdam.com/2019/10/23/spotlighting-gangs-south-mississippi/\n",
      "https://www.wdam.com/2019/10/22/illegal-deer-hunt-wayne-county-leads-attempted-murder-charges/\n",
      "https://www.wdam.com/2019/10/21/single-punch-leaves-alabama-teen-critical-condition/\n",
      "https://www.wdam.com/2019/10/21/laurel-police-investigating-weekend-drive-by-shooting/\n",
      "https://www.wdam.com/2019/10/21/jones-co-man-who-dealt-drugs-near-childrens-hospital-pleads-guilty-drug-conspiracy-charges/\n",
      "https://www.wdam.com/2019/10/18/relatives-say-mother-acted-suspiciously-before-abducting-children-copiah-county-home-gunpoint/\n",
      "https://www.wdam.com/2019/10/17/amber-alert-cancelled-after-children-kidnapped-copiah-co-home-found-safe/\n",
      "https://www.wdam.com/2019/10/14/pine-belt-men-arrested-child-pornography-charges/\n",
      "https://www.wdam.com/2019/10/10/arrested-after-meth-found-during-traffic-stop-perry-county/\n",
      "https://www.wdam.com/2019/10/09/lumberton-honors-victims-survivors-domestic-violence/\n",
      "https://www.wdam.com/2019/10/11/manhunt-underway-escaped-inmate-jones-county/\n",
      "https://www.wdam.com/2019/10/13/hattiesburg-police-looking-suspect-grand-larceny-case/\n",
      "https://www.wdam.com/2019/10/27/superhero-potter-fortnite-costumes-big-sellers-hattiesburg-costume-store/\n",
      "https://www.wdam.com/2019/10/26/hattiesburg-volunteers-participate-make-difference-day/\n"
     ]
    }
   ],
   "source": [
    "# Actually Requesting transcripts \n",
    "transcripts = [url_to_transcript(u) for u in urls]"
   ]
  },
  {
   "cell_type": "code",
   "execution_count": 3,
   "metadata": {},
   "outputs": [
    {
     "name": "stdout",
     "output_type": "stream",
     "text": [
      "mkdir: transcripts: File exists\r\n"
     ]
    }
   ],
   "source": [
    "# # Pickle files for later use\n",
    "\n",
    "# # Make a new directory to hold the text files\n",
    "!mkdir transcripts\n",
    "\n",
    "for i, c in enumerate(newsIndex):\n",
    "    with open(\"transcripts/\" + c + \".txt\", \"wb\") as file:\n",
    "         pickle.dump(transcripts[i], file)"
   ]
  },
  {
   "cell_type": "code",
   "execution_count": 4,
   "metadata": {},
   "outputs": [],
   "source": [
    "# Load pickled files\n",
    "data = {}\n",
    "for i, c in enumerate(newsIndex):\n",
    "    with open(\"transcripts/\" + c + \".txt\", \"rb\") as file:\n",
    "        data[c] = pickle.load(file)"
   ]
  },
  {
   "cell_type": "code",
   "execution_count": 5,
   "metadata": {},
   "outputs": [
    {
     "data": {
      "text/plain": [
       "dict_keys(['M1', 'M2', 'M3', 'M4', 'M5', 'M6', 'M7', 'M8', 'M9', 'M10', 'M11', 'M12', 'M13', 'M14', 'M15'])"
      ]
     },
     "execution_count": 5,
     "metadata": {},
     "output_type": "execute_result"
    }
   ],
   "source": [
    "# Double check to make sure data has been loaded properly\n",
    "data.keys()"
   ]
  },
  {
   "cell_type": "code",
   "execution_count": 6,
   "metadata": {},
   "outputs": [],
   "source": [
    "# We are going to change this to key: news Id, value: string format\n",
    "def combine_text(list_of_text):\n",
    "    '''Takes a list of text and combines them into one large chunk of text.'''\n",
    "    combined_text = ' '.join(list_of_text)\n",
    "    return combined_text"
   ]
  },
  {
   "cell_type": "code",
   "execution_count": 7,
   "metadata": {},
   "outputs": [],
   "source": [
    "# Combine it!\n",
    "data_combined = {key: [combine_text(value)] for (key, value) in data.items()}"
   ]
  },
  {
   "cell_type": "code",
   "execution_count": 8,
   "metadata": {},
   "outputs": [
    {
     "data": {
      "text/html": [
       "<div>\n",
       "<style scoped>\n",
       "    .dataframe tbody tr th:only-of-type {\n",
       "        vertical-align: middle;\n",
       "    }\n",
       "\n",
       "    .dataframe tbody tr th {\n",
       "        vertical-align: top;\n",
       "    }\n",
       "\n",
       "    .dataframe thead th {\n",
       "        text-align: right;\n",
       "    }\n",
       "</style>\n",
       "<table border=\"1\" class=\"dataframe\">\n",
       "  <thead>\n",
       "    <tr style=\"text-align: right;\">\n",
       "      <th></th>\n",
       "      <th>transcript</th>\n",
       "    </tr>\n",
       "  </thead>\n",
       "  <tbody>\n",
       "    <tr>\n",
       "      <th>M1</th>\n",
       "      <td>Skimming device found on pump at Petal gas station</td>\n",
       "    </tr>\n",
       "    <tr>\n",
       "      <th>M10</th>\n",
       "      <td>2 arrested after meth found during traffic stop in Perry County</td>\n",
       "    </tr>\n",
       "    <tr>\n",
       "      <th>M11</th>\n",
       "      <td>Lumberton honors victims, survivors of domestic violence</td>\n",
       "    </tr>\n",
       "    <tr>\n",
       "      <th>M12</th>\n",
       "      <td>Manhunt underway for escaped inmate in Jones County</td>\n",
       "    </tr>\n",
       "    <tr>\n",
       "      <th>M13</th>\n",
       "      <td>Hattiesburg police looking for suspect in grand larceny case</td>\n",
       "    </tr>\n",
       "    <tr>\n",
       "      <th>M14</th>\n",
       "      <td>Superhero, Potter, Fortnite costumes big sellers at Hattiesburg costume store</td>\n",
       "    </tr>\n",
       "    <tr>\n",
       "      <th>M15</th>\n",
       "      <td>Hattiesburg volunteers participate in Make a Difference Day</td>\n",
       "    </tr>\n",
       "    <tr>\n",
       "      <th>M2</th>\n",
       "      <td>Spotlighting gangs in South Mississippi</td>\n",
       "    </tr>\n",
       "    <tr>\n",
       "      <th>M3</th>\n",
       "      <td>Illegal deer hunt in Wayne County leads to attempted murder charges</td>\n",
       "    </tr>\n",
       "    <tr>\n",
       "      <th>M4</th>\n",
       "      <td>Single punch leaves Alabama teen in critical condition</td>\n",
       "    </tr>\n",
       "    <tr>\n",
       "      <th>M5</th>\n",
       "      <td>Laurel police investigating weekend drive-by shooting</td>\n",
       "    </tr>\n",
       "    <tr>\n",
       "      <th>M6</th>\n",
       "      <td>Jones Co. man who dealt drugs near children’s hospital pleads guilty to drug conspiracy charges</td>\n",
       "    </tr>\n",
       "    <tr>\n",
       "      <th>M7</th>\n",
       "      <td>Relatives say mother acted suspiciously before abducting children from Copiah County home at gunpoint</td>\n",
       "    </tr>\n",
       "    <tr>\n",
       "      <th>M8</th>\n",
       "      <td>Amber Alert cancelled: Children kidnapped from Copiah Co. home found safe</td>\n",
       "    </tr>\n",
       "    <tr>\n",
       "      <th>M9</th>\n",
       "      <td>2 Pine Belt men arrested on child pornography charges</td>\n",
       "    </tr>\n",
       "  </tbody>\n",
       "</table>\n",
       "</div>"
      ],
      "text/plain": [
       "                                                                                                transcript\n",
       "M1                                                      Skimming device found on pump at Petal gas station\n",
       "M10                                        2 arrested after meth found during traffic stop in Perry County\n",
       "M11                                               Lumberton honors victims, survivors of domestic violence\n",
       "M12                                                    Manhunt underway for escaped inmate in Jones County\n",
       "M13                                           Hattiesburg police looking for suspect in grand larceny case\n",
       "M14                          Superhero, Potter, Fortnite costumes big sellers at Hattiesburg costume store\n",
       "M15                                            Hattiesburg volunteers participate in Make a Difference Day\n",
       "M2                                                                 Spotlighting gangs in South Mississippi\n",
       "M3                                     Illegal deer hunt in Wayne County leads to attempted murder charges\n",
       "M4                                                  Single punch leaves Alabama teen in critical condition\n",
       "M5                                                   Laurel police investigating weekend drive-by shooting\n",
       "M6         Jones Co. man who dealt drugs near children’s hospital pleads guilty to drug conspiracy charges\n",
       "M7   Relatives say mother acted suspiciously before abducting children from Copiah County home at gunpoint\n",
       "M8                               Amber Alert cancelled: Children kidnapped from Copiah Co. home found safe\n",
       "M9                                                   2 Pine Belt men arrested on child pornography charges"
      ]
     },
     "execution_count": 8,
     "metadata": {},
     "output_type": "execute_result"
    }
   ],
   "source": [
    "# Putting it into a pandas dataframe\n",
    "import pandas as pd\n",
    "pd.set_option('max_colwidth',200)\n",
    "\n",
    "data_df = pd.DataFrame.from_dict(data_combined).transpose()\n",
    "data_df.columns = ['transcript']\n",
    "data_df = data_df.sort_index()\n",
    "data_df"
   ]
  },
  {
   "cell_type": "code",
   "execution_count": 9,
   "metadata": {},
   "outputs": [],
   "source": [
    "# Imports the Google Cloud client library\n",
    "import os\n",
    "os.environ[\"GOOGLE_APPLICATION_CREDENTIALS\"]=\"/Users/coolnabinn/Desktop/Edx/projects/calHacks/CalHacks6-ed923f84ad31.json\"\n",
    "\n",
    "from google.cloud import language\n",
    "from google.cloud.language import enums\n",
    "from google.cloud.language import types\n",
    "\n",
    "# Instantiates a client\n",
    "client = language.LanguageServiceClient()"
   ]
  },
  {
   "cell_type": "code",
   "execution_count": 10,
   "metadata": {},
   "outputs": [],
   "source": [
    "#extracting location from the news headline using GOOGLE CLOUD API\n",
    "def locExt(i):\n",
    "    document=language.types.Document(\n",
    "        content=data_df.transcript.loc[i],\n",
    "        type=language.enums.Document.Type.PLAIN_TEXT,\n",
    "    )\n",
    "    response=client.analyze_entities(\n",
    "        document=document,\n",
    "        encoding_type='UTF32',\n",
    "    )\n",
    "    for entity in response.entities: \n",
    "        #print('=' * 20)\n",
    "        #print('         name: {0}'.format(entity.name))\n",
    "        #print('         type: {0}'.format(entity.type))\n",
    "        #print('     metadata: {0}'.format(entity.metadata))\n",
    "        #print('     salience: {0}'.format(entity.salience))\n",
    "        #print(entity)\n",
    "        if entity.type==2: \n",
    "            print(entity.name)\n",
    "            return entity.name"
   ]
  },
  {
   "cell_type": "code",
   "execution_count": 11,
   "metadata": {},
   "outputs": [
    {
     "name": "stdout",
     "output_type": "stream",
     "text": [
      "gas station\n",
      "South Mississippi\n",
      "Wayne County\n",
      "Alabama\n",
      "Laurel\n",
      "hospital\n",
      "home\n",
      "Copiah Co.\n",
      "Pine Belt\n",
      "traffic stop\n",
      "Lumberton\n",
      "Jones County\n",
      "Hattiesburg\n",
      "costume store\n",
      "Hattiesburg\n"
     ]
    }
   ],
   "source": [
    "#printing the extracted location of incident\n",
    "location={}\n",
    "for i in data: \n",
    "    location[i]=locExt(i)"
   ]
  },
  {
   "cell_type": "code",
   "execution_count": 12,
   "metadata": {},
   "outputs": [
    {
     "name": "stdout",
     "output_type": "stream",
     "text": [
      "{'M1': 'gas station', 'M2': 'South Mississippi', 'M3': 'Wayne County', 'M4': 'Alabama', 'M5': 'Laurel', 'M6': 'hospital', 'M7': 'home', 'M8': 'Copiah Co.', 'M9': 'Pine Belt', 'M10': 'traffic stop', 'M11': 'Lumberton', 'M12': 'Jones County', 'M13': 'Hattiesburg', 'M14': 'costume store', 'M15': 'Hattiesburg'}\n"
     ]
    }
   ],
   "source": [
    "# printing the dictionary with key and location\n",
    "print(location)"
   ]
  },
  {
   "cell_type": "code",
   "execution_count": 13,
   "metadata": {},
   "outputs": [],
   "source": [
    "#building a dictionary and encoding the severity of crime index\n",
    "#severity scores are choosen in accordance with the criminal activities affecting the \n",
    "severDict = {'murder':0.9,'kill':0.9,'terror':0.9,'shoot':0.9,\n",
    "             'rob':0.8,'rape':0.8,'collaps':0.75,'collide':0.75,'accident':0.75,\n",
    "             'destroy':0.75,'robbery':0.75,'steal':0.65,'missing':0.3,'lost':'0.3','bully':0.35,\n",
    "             'bully':0.35,'beat':0.65,'gangs':0.4,'hunt':0.4,'punch':0.2,'critical':0.6,'drugs':0.7,'conspiracy':0.65,\n",
    "             'suspicious':0.55,'abduct':0.5,'kidnap':0.75,'pornography':0.8,\n",
    "             'arrest':0.3,'meth':0.7,'violence':0.4,'manhunt':0.6,'racism':0.4,'excape':0.45,\n",
    "             'suspect':0.4,'device':0.2\n",
    "            }"
   ]
  },
  {
   "cell_type": "code",
   "execution_count": 14,
   "metadata": {},
   "outputs": [],
   "source": [
    "# using NLP tools to extract the incident of crime and the severity\n",
    "from nltk.stem import PorterStemmer\n",
    "from nltk.tokenize import word_tokenize\n",
    "\n",
    "#extracting the word root to compare against the dictonary word\n",
    "ps =PorterStemmer()\n",
    "\n",
    "def severIndx(text):\n",
    "    sum=0\n",
    "    count=0\n",
    "    newsTitle=data_df.transcript.loc[text]\n",
    "    #print(newsTitle)\n",
    "    for word in newsTitle.split():\n",
    "        #print(word)\n",
    "        for j in severDict:\n",
    "            if word.lower() ==j or ps.stem(word.lower()) == j:\n",
    "                count+=1\n",
    "                sum+=severDict[j]\n",
    "    if count!=0:\n",
    "        return sum/count\n",
    "    else:\n",
    "        return 0"
   ]
  },
  {
   "cell_type": "code",
   "execution_count": 15,
   "metadata": {},
   "outputs": [],
   "source": [
    "# building a new dictionary with the severity index for the key-categorized city\n",
    "wordInContext={}\n",
    "for i in data:\n",
    "    wordInContext[i]=severIndx(i)\n",
    "    #wordInContext[i]=severIndx(i)"
   ]
  },
  {
   "cell_type": "code",
   "execution_count": 16,
   "metadata": {},
   "outputs": [
    {
     "name": "stdout",
     "output_type": "stream",
     "text": [
      "{'M1': 0.2, 'M2': 0.4, 'M3': 0.65, 'M4': 0.4, 'M5': 0.9, 'M6': 0.675, 'M7': 0.5, 'M8': 0.75, 'M9': 0.55, 'M10': 0.5, 'M11': 0.4, 'M12': 0.6, 'M13': 0.4, 'M14': 0, 'M15': 0}\n"
     ]
    }
   ],
   "source": [
    "#printing the dictionary with key and severity index\n",
    "print(wordInContext)"
   ]
  },
  {
   "cell_type": "code",
   "execution_count": 24,
   "metadata": {
    "scrolled": true
   },
   "outputs": [],
   "source": [
    "# merging the location and severity dectionaries with similar key\n",
    "ds = [location, wordInContext]\n",
    "d = {}\n",
    "for k in location.keys():\n",
    "  d[k] = tuple(d[k] for d in ds)"
   ]
  },
  {
   "cell_type": "code",
   "execution_count": 25,
   "metadata": {},
   "outputs": [
    {
     "name": "stdout",
     "output_type": "stream",
     "text": [
      "{'M1': ('gas station', 0.2), 'M2': ('South Mississippi', 0.4), 'M3': ('Wayne County', 0.65), 'M4': ('Alabama', 0.4), 'M5': ('Laurel', 0.9), 'M6': ('hospital', 0.675), 'M7': ('home', 0.5), 'M8': ('Copiah Co.', 0.75), 'M9': ('Pine Belt', 0.55), 'M10': ('traffic stop', 0.5), 'M11': ('Lumberton', 0.4), 'M12': ('Jones County', 0.6), 'M13': ('Hattiesburg', 0.4), 'M14': ('costume store', 0), 'M15': ('Hattiesburg', 0)}\n"
     ]
    }
   ],
   "source": [
    "# printing the merged dictionary\n",
    "print(d)"
   ]
  },
  {
   "cell_type": "code",
   "execution_count": 26,
   "metadata": {},
   "outputs": [],
   "source": [
    "#using GOOGLE API to encode the locations to corresponding lattitudes and longitudes\n",
    "from geopy.geocoders import Nominatim\n",
    "geolocator = Nominatim(user_agent='myapplication')\n",
    "latLong={}\n",
    "for i in d: \n",
    "        location = geolocator.geocode(d[i][0])\n",
    "        try:\n",
    "            latLong[i]=(location.latitude, location.longitude,d[i][0],d[i][1])\n",
    "        except GeocoderTimedOut:\n",
    "            latLong[i]=(0,0, d[i][0],d[i][1])\n"
   ]
  },
  {
   "cell_type": "code",
   "execution_count": 27,
   "metadata": {},
   "outputs": [
    {
     "name": "stdout",
     "output_type": "stream",
     "text": [
      "{\"M1\": [17.6138859, 121.69574807689551, \"gas station\", 0.2], \"M2\": [32.9715645, -89.7348497, \"South Mississippi\", 0.4], \"M3\": [38.4251958, -88.4197678, \"Wayne County\", 0.65], \"M4\": [33.2588817, -86.8295337, \"Alabama\", 0.4], \"M5\": [31.739966000000003, -89.13265868703502, \"Laurel\", 0.9], \"M6\": [42.7051669, -7.1013033, \"hospital\", 0.675], \"M7\": [51.8277408, 9.0207583, \"home\", 0.5], \"M8\": [31.8563532, -90.4798717, \"Copiah Co.\", 0.75], \"M9\": [35.8989818, 14.5136759, \"Pine Belt\", 0.55], \"M10\": [52.9191782, -1.4708665, \"traffic stop\", 0.5], \"M11\": [34.6183433, -79.0083993, \"Lumberton\", 0.4], \"M12\": [32.7135946, -99.8606106, \"Jones County\", 0.6], \"M13\": [31.3271189, -89.2903392, \"Hattiesburg\", 0.4], \"M14\": [51.5225546, -0.26001242770184324, \"costume store\", 0], \"M15\": [31.3271189, -89.2903392, \"Hattiesburg\", 0]}\n"
     ]
    }
   ],
   "source": [
    "# dumping the merged dictionary to jason file\n",
    "import json\n",
    "app_json = json.dumps(latLong)\n",
    "print(app_json)\n",
    "with open('app.json', 'w') as fp:\n",
    "    json.dump(latLong, fp)"
   ]
  },
  {
   "cell_type": "code",
   "execution_count": null,
   "metadata": {},
   "outputs": [],
   "source": []
  }
 ],
 "metadata": {
  "kernelspec": {
   "display_name": "Python 3",
   "language": "python",
   "name": "python3"
  },
  "language_info": {
   "codemirror_mode": {
    "name": "ipython",
    "version": 3
   },
   "file_extension": ".py",
   "mimetype": "text/x-python",
   "name": "python",
   "nbconvert_exporter": "python",
   "pygments_lexer": "ipython3",
   "version": "3.7.6"
  }
 },
 "nbformat": 4,
 "nbformat_minor": 2
}
